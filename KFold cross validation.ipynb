{
 "cells": [
  {
   "cell_type": "code",
   "execution_count": 1,
   "id": "94097816",
   "metadata": {},
   "outputs": [],
   "source": [
    "# Import necessary libraries and functions\n",
    "from sklearn.datasets import load_iris\n",
    "from sklearn.model_selection import cross_val_score\n",
    "from sklearn.linear_model import LogisticRegression\n",
    "from sklearn.tree import DecisionTreeClassifier\n",
    "from sklearn.svm import SVC\n",
    "from sklearn.ensemble import RandomForestClassifier\n",
    "import numpy as np"
   ]
  },
  {
   "cell_type": "code",
   "execution_count": 2,
   "id": "e462f2f1",
   "metadata": {},
   "outputs": [],
   "source": [
    "# Load the Iris dataset\n",
    "iris = load_iris() \n"
   ]
  },
  {
   "cell_type": "markdown",
   "id": "9c4ac964",
   "metadata": {},
   "source": [
    "### Logistic Regression"
   ]
  },
  {
   "cell_type": "code",
   "execution_count": 3,
   "id": "b4b08639",
   "metadata": {},
   "outputs": [
    {
     "name": "stdout",
     "output_type": "stream",
     "text": [
      "Logistic Regression scores: [0.96666667 1.         0.93333333 0.96666667 1.        ]\n"
     ]
    }
   ],
   "source": [
    "# Logistic Regression Model\n",
    "# Perform 5-fold cross-validation for the Logistic Regression model on the Iris dataset\n",
    "l_scores = cross_val_score(LogisticRegression(max_iter=200), iris.data, iris.target)\n",
    "# Print the accuracy scores for each fold\n",
    "print(\"Logistic Regression scores:\", l_scores)"
   ]
  },
  {
   "cell_type": "code",
   "execution_count": 4,
   "id": "39040f7e",
   "metadata": {},
   "outputs": [
    {
     "name": "stdout",
     "output_type": "stream",
     "text": [
      "Average Logistic Regression score: 0.9733333333333334\n"
     ]
    }
   ],
   "source": [
    "# Calculate and print the average accuracy across all folds\n",
    "print(\"Average Logistic Regression score:\", np.average(l_scores))"
   ]
  },
  {
   "cell_type": "markdown",
   "id": "612e0819",
   "metadata": {},
   "source": [
    "### Decision Tree"
   ]
  },
  {
   "cell_type": "code",
   "execution_count": 5,
   "id": "32fafbb7",
   "metadata": {},
   "outputs": [
    {
     "name": "stdout",
     "output_type": "stream",
     "text": [
      "Decision Tree scores: [0.96666667 0.96666667 0.9        1.         1.        ]\n"
     ]
    }
   ],
   "source": [
    "# Decision Tree Model\n",
    "# Perform 5-fold cross-validation for the Decision Tree model on the Iris dataset\n",
    "d_scores = cross_val_score(DecisionTreeClassifier(), iris.data, iris.target)\n",
    "# Print the accuracy scores for each fold\n",
    "print(\"Decision Tree scores:\", d_scores)"
   ]
  },
  {
   "cell_type": "code",
   "execution_count": 6,
   "id": "d89bd98c",
   "metadata": {},
   "outputs": [
    {
     "name": "stdout",
     "output_type": "stream",
     "text": [
      "Average Decision Tree score: 0.9666666666666668\n"
     ]
    }
   ],
   "source": [
    "# Calculate and print the average accuracy across all folds\n",
    "print(\"Average Decision Tree score:\", np.average(d_scores))"
   ]
  },
  {
   "cell_type": "markdown",
   "id": "3ba9f60d",
   "metadata": {},
   "source": [
    "### Support Vector Machine (SVM)"
   ]
  },
  {
   "cell_type": "code",
   "execution_count": 7,
   "id": "74ffbadc",
   "metadata": {},
   "outputs": [
    {
     "name": "stdout",
     "output_type": "stream",
     "text": [
      "SVM scores: [0.96666667 0.96666667 0.96666667 0.93333333 1.        ]\n"
     ]
    }
   ],
   "source": [
    "# SVM (Support Vector Machine) Model\n",
    "# Perform 5-fold cross-validation for the SVM model on the Iris dataset\n",
    "s_scores = cross_val_score(SVC(), iris.data, iris.target)\n",
    "# Print the accuracy scores for each fold\n",
    "print(\"SVM scores:\", s_scores)"
   ]
  },
  {
   "cell_type": "code",
   "execution_count": 8,
   "id": "68ca88a9",
   "metadata": {},
   "outputs": [
    {
     "name": "stdout",
     "output_type": "stream",
     "text": [
      "Average SVM score: 0.9666666666666666\n"
     ]
    }
   ],
   "source": [
    "# Calculate and print the average accuracy across all folds\n",
    "print(\"Average SVM score:\", np.average(s_scores))\n"
   ]
  },
  {
   "cell_type": "markdown",
   "id": "f2833159",
   "metadata": {},
   "source": [
    " ### Random Forest"
   ]
  },
  {
   "cell_type": "code",
   "execution_count": 9,
   "id": "7690e50a",
   "metadata": {},
   "outputs": [
    {
     "name": "stdout",
     "output_type": "stream",
     "text": [
      "Random Forest scores: [0.96666667 0.96666667 0.93333333 0.96666667 1.        ]\n"
     ]
    }
   ],
   "source": [
    "# Random Forest Model\n",
    "# Perform 5-fold cross-validation for the Random Forest model on the Iris dataset\n",
    "# with 40 trees in the forest\n",
    "r_scores = cross_val_score(RandomForestClassifier(n_estimators=40), iris.data, iris.target)\n",
    "# Print the accuracy scores for each fold\n",
    "print(\"Random Forest scores:\", r_scores)"
   ]
  },
  {
   "cell_type": "code",
   "execution_count": 10,
   "id": "64b79f86",
   "metadata": {},
   "outputs": [
    {
     "name": "stdout",
     "output_type": "stream",
     "text": [
      "Average Random Forest score: 0.9666666666666668\n"
     ]
    }
   ],
   "source": [
    "# Calculate and print the average accuracy across all folds\n",
    "print(\"Average Random Forest score:\", np.average(r_scores))"
   ]
  },
  {
   "cell_type": "code",
   "execution_count": null,
   "id": "b06b9bf8",
   "metadata": {},
   "outputs": [],
   "source": []
  }
 ],
 "metadata": {
  "kernelspec": {
   "display_name": "Python 3 (ipykernel)",
   "language": "python",
   "name": "python3"
  },
  "language_info": {
   "codemirror_mode": {
    "name": "ipython",
    "version": 3
   },
   "file_extension": ".py",
   "mimetype": "text/x-python",
   "name": "python",
   "nbconvert_exporter": "python",
   "pygments_lexer": "ipython3",
   "version": "3.9.12"
  }
 },
 "nbformat": 4,
 "nbformat_minor": 5
}
